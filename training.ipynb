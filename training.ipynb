{
 "cells": [
  {
   "cell_type": "markdown",
   "metadata": {},
   "source": [
    "Imports"
   ]
  },
  {
   "cell_type": "code",
   "execution_count": 1,
   "metadata": {},
   "outputs": [
    {
     "name": "stderr",
     "output_type": "stream",
     "text": [
      "Using TensorFlow backend.\n",
      "/home/marrondantas/anaconda3/envs/kerasenv/lib/python3.6/site-packages/tensorflow/python/framework/dtypes.py:523: FutureWarning: Passing (type, 1) or '1type' as a synonym of type is deprecated; in a future version of numpy, it will be understood as (type, (1,)) / '(1,)type'.\n",
      "  _np_qint8 = np.dtype([(\"qint8\", np.int8, 1)])\n",
      "/home/marrondantas/anaconda3/envs/kerasenv/lib/python3.6/site-packages/tensorflow/python/framework/dtypes.py:524: FutureWarning: Passing (type, 1) or '1type' as a synonym of type is deprecated; in a future version of numpy, it will be understood as (type, (1,)) / '(1,)type'.\n",
      "  _np_quint8 = np.dtype([(\"quint8\", np.uint8, 1)])\n",
      "/home/marrondantas/anaconda3/envs/kerasenv/lib/python3.6/site-packages/tensorflow/python/framework/dtypes.py:525: FutureWarning: Passing (type, 1) or '1type' as a synonym of type is deprecated; in a future version of numpy, it will be understood as (type, (1,)) / '(1,)type'.\n",
      "  _np_qint16 = np.dtype([(\"qint16\", np.int16, 1)])\n",
      "/home/marrondantas/anaconda3/envs/kerasenv/lib/python3.6/site-packages/tensorflow/python/framework/dtypes.py:526: FutureWarning: Passing (type, 1) or '1type' as a synonym of type is deprecated; in a future version of numpy, it will be understood as (type, (1,)) / '(1,)type'.\n",
      "  _np_quint16 = np.dtype([(\"quint16\", np.uint16, 1)])\n",
      "/home/marrondantas/anaconda3/envs/kerasenv/lib/python3.6/site-packages/tensorflow/python/framework/dtypes.py:527: FutureWarning: Passing (type, 1) or '1type' as a synonym of type is deprecated; in a future version of numpy, it will be understood as (type, (1,)) / '(1,)type'.\n",
      "  _np_qint32 = np.dtype([(\"qint32\", np.int32, 1)])\n",
      "/home/marrondantas/anaconda3/envs/kerasenv/lib/python3.6/site-packages/tensorflow/python/framework/dtypes.py:532: FutureWarning: Passing (type, 1) or '1type' as a synonym of type is deprecated; in a future version of numpy, it will be understood as (type, (1,)) / '(1,)type'.\n",
      "  np_resource = np.dtype([(\"resource\", np.ubyte, 1)])\n"
     ]
    }
   ],
   "source": [
    "import numpy as np\n",
    "import cv2\n",
    "import glob\n",
    "from tqdm import tqdm\n",
    "import mediapy as media\n",
    "from pycm import *\n",
    "\n",
    "from sklearn.model_selection import train_test_split\n",
    "from sklearn.preprocessing import MinMaxScaler\n",
    "\n",
    "from keras.preprocessing.image import ImageDataGenerator\n",
    "from keras.preprocessing.image import load_img\n",
    "from keras.preprocessing.image import img_to_array\n",
    "\n",
    "from keras.applications.vgg16 import preprocess_input\n",
    "from keras.applications.vgg16 import VGG16\n",
    "\n",
    "from keras.layers import Input, Flatten, Dense, MaxPool2D, Conv2D, Concatenate\n",
    "from keras.models import Model\n",
    "from keras.models import Sequential\n",
    "\n",
    "from keras.callbacks import EarlyStopping\n",
    "from keras.callbacks import ModelCheckpoint\n",
    "from keras.callbacks import ReduceLROnPlateau\n",
    "\n",
    "from keras.optimizers import Adam"
   ]
  },
  {
   "cell_type": "markdown",
   "metadata": {},
   "source": [
    "Utils"
   ]
  },
  {
   "cell_type": "code",
   "execution_count": 1,
   "metadata": {},
   "outputs": [
    {
     "name": "stdout",
     "output_type": "stream",
     "text": [
      "Total files soil: 4448\n",
      "Total files tree: 2224\n"
     ]
    }
   ],
   "source": [
    "files_soil = (glob.glob(\"Data/*soil.png\"))\n",
    "files_tree = (glob.glob(\"Data/*tree.png\"))\n",
    "\n",
    "print(\"Total files soil:\",len(files_soil))\n",
    "print(\"Total files tree:\",len(files_tree))"
   ]
  },
  {
   "cell_type": "markdown",
   "metadata": {},
   "source": [
    "## Generating initial dataset"
   ]
  },
  {
   "cell_type": "code",
   "execution_count": 2,
   "metadata": {},
   "outputs": [
    {
     "name": "stdout",
     "output_type": "stream",
     "text": [
      "Train samples: 5337 with 1782 Soil samples and 3555 Tree samples\n",
      "Test samples: 668 with 220 Soil samples and 446 Tree samples\n",
      "Val samples: 667 with 220 Soil samples and 447 Tree samples\n"
     ]
    }
   ],
   "source": [
    "#Generating labels\n",
    "soil_label = np.zeros(len(files_soil))\n",
    "soil_tree = np.ones(len(files_tree))\n",
    "\n",
    "#Adding data format\n",
    "X = files_soil + files_tree\n",
    "y = np.hstack((soil_label,soil_tree))\n",
    "\n",
    "#Spliting in train, test and validation\n",
    "X_train, X_test, y_train, y_test = train_test_split(X, y, test_size=0.2, random_state=42)\n",
    "X_val, X_test, y_val, y_test = train_test_split(X_test, y_test, test_size=0.5, random_state=42)\n",
    "\n",
    "#Printing output data format\n",
    "print('Train samples: %i with %i Soil samples and %i Tree samples'%(len(X_train),np.sum(y_train),np.sum(1-y_train)))\n",
    "print('Test samples: %i with %i Soil samples and %i Tree samples'%(len(X_test),np.sum(y_val),np.sum(1-y_test)))\n",
    "print('Val samples: %i with %i Soil samples and %i Tree samples'%(len(X_val),np.sum(y_val),np.sum(1-y_val)))"
   ]
  },
  {
   "cell_type": "markdown",
   "metadata": {},
   "source": [
    "## Creating the custom dataloader"
   ]
  },
  {
   "cell_type": "markdown",
   "metadata": {},
   "source": [
    "* Data augmetantion on the fly"
   ]
  },
  {
   "cell_type": "code",
   "execution_count": 3,
   "metadata": {},
   "outputs": [
    {
     "name": "stderr",
     "output_type": "stream",
     "text": [
      "Using TensorFlow backend.\n",
      "/home/marrondantas/anaconda3/envs/kerasenv/lib/python3.6/site-packages/tensorflow/python/framework/dtypes.py:523: FutureWarning: Passing (type, 1) or '1type' as a synonym of type is deprecated; in a future version of numpy, it will be understood as (type, (1,)) / '(1,)type'.\n",
      "  _np_qint8 = np.dtype([(\"qint8\", np.int8, 1)])\n",
      "/home/marrondantas/anaconda3/envs/kerasenv/lib/python3.6/site-packages/tensorflow/python/framework/dtypes.py:524: FutureWarning: Passing (type, 1) or '1type' as a synonym of type is deprecated; in a future version of numpy, it will be understood as (type, (1,)) / '(1,)type'.\n",
      "  _np_quint8 = np.dtype([(\"quint8\", np.uint8, 1)])\n",
      "/home/marrondantas/anaconda3/envs/kerasenv/lib/python3.6/site-packages/tensorflow/python/framework/dtypes.py:525: FutureWarning: Passing (type, 1) or '1type' as a synonym of type is deprecated; in a future version of numpy, it will be understood as (type, (1,)) / '(1,)type'.\n",
      "  _np_qint16 = np.dtype([(\"qint16\", np.int16, 1)])\n",
      "/home/marrondantas/anaconda3/envs/kerasenv/lib/python3.6/site-packages/tensorflow/python/framework/dtypes.py:526: FutureWarning: Passing (type, 1) or '1type' as a synonym of type is deprecated; in a future version of numpy, it will be understood as (type, (1,)) / '(1,)type'.\n",
      "  _np_quint16 = np.dtype([(\"quint16\", np.uint16, 1)])\n",
      "/home/marrondantas/anaconda3/envs/kerasenv/lib/python3.6/site-packages/tensorflow/python/framework/dtypes.py:527: FutureWarning: Passing (type, 1) or '1type' as a synonym of type is deprecated; in a future version of numpy, it will be understood as (type, (1,)) / '(1,)type'.\n",
      "  _np_qint32 = np.dtype([(\"qint32\", np.int32, 1)])\n",
      "/home/marrondantas/anaconda3/envs/kerasenv/lib/python3.6/site-packages/tensorflow/python/framework/dtypes.py:532: FutureWarning: Passing (type, 1) or '1type' as a synonym of type is deprecated; in a future version of numpy, it will be understood as (type, (1,)) / '(1,)type'.\n",
      "  np_resource = np.dtype([(\"resource\", np.ubyte, 1)])\n"
     ]
    },
    {
     "data": {
      "text/html": [
       "<table class=\"show_images\" style=\"border-spacing:0px;\"><tr><td style=\"padding:1px;\"><div style=\"display:flex; align-items:left;\">\n",
       "      <div style=\"display:flex; flex-direction:column; align-items:center;\">\n",
       "      <div>Aug sample</div><div><img width=\"200\" height=\"200\" style=\"image-rendering:pixelated; object-fit:cover;\" src=\"data:image/png;base64,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\"/></div></div></div></td></tr></table>"
      ],
      "text/plain": [
       "<IPython.core.display.HTML object>"
      ]
     },
     "metadata": {},
     "output_type": "display_data"
    },
    {
     "data": {
      "text/html": [
       "<table class=\"show_images\" style=\"border-spacing:0px;\"><tr><td style=\"padding:1px;\"><div style=\"display:flex; align-items:left;\">\n",
       "      <div style=\"display:flex; flex-direction:column; align-items:center;\">\n",
       "      <div>Aug sample</div><div><img width=\"200\" height=\"200\" style=\"image-rendering:pixelated; object-fit:cover;\" src=\"data:image/png;base64,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\"/></div></div></div></td></tr></table>"
      ],
      "text/plain": [
       "<IPython.core.display.HTML object>"
      ]
     },
     "metadata": {},
     "output_type": "display_data"
    }
   ],
   "source": [
    "#Getting a custom data augmentation setup \n",
    "def get_augmented(x,y,total_samples):\n",
    "    \n",
    "    x_aug = []\n",
    "    y_aug = []\n",
    "    \n",
    "    #Minimal data augmentation\n",
    "    datagen = ImageDataGenerator(\n",
    "        rotation_range=90,\n",
    "        horizontal_flip=True,\n",
    "        vertical_flip=True,\n",
    "        brightness_range=[0.5,1])\n",
    "    \n",
    "    #Getting iteratos\n",
    "    for i in range(total_samples):\n",
    "    \n",
    "        x_partial, y_partial = next(datagen.flow(x,y, batch_size=total_samples))\n",
    "        x_aug.append(x_partial[0])\n",
    "        y_aug.append(y_partial[0])\n",
    "    \n",
    "    return np.asarray(x_aug), np.asarray(y_aug)\n",
    "\n",
    "#Showing a sample of the generate images\n",
    "x_ = np.asarray([cv2.imread(X_train[3000])])\n",
    "y_ = np.asarray([y_train[3000]])\n",
    "\n",
    "aug_x, aug_y = get_augmented(x_,y_,2)\n",
    "\n",
    "media.show_image(media.resize_image(cv2.cvtColor(aug_x[0].astype('uint8'),cv2.COLOR_BGR2RGB),(200,200)),title='Aug sample')\n",
    "media.show_image(media.resize_image(cv2.cvtColor(aug_x[1].astype('uint8'),cv2.COLOR_BGR2RGB),(200,200)),title='Aug sample')"
   ]
  },
  {
   "cell_type": "markdown",
   "metadata": {},
   "source": [
    "Data loader"
   ]
  },
  {
   "cell_type": "markdown",
   "metadata": {},
   "source": [
    "* Generating the customs loaders for the training and validation"
   ]
  },
  {
   "cell_type": "code",
   "execution_count": 8,
   "metadata": {},
   "outputs": [],
   "source": [
    "def data_loader(paths, labels, batch_size = 5, size_aug = -1, data_augmentation=False):\n",
    "    \n",
    "    begin = 0\n",
    "    end   = batch_size\n",
    "    \n",
    "    while True:\n",
    "        \n",
    "        partial_x = paths[begin:end]\n",
    "        out_y = labels[begin:end]\n",
    "        \n",
    "        out_x = []\n",
    "        \n",
    "        for i in range(len(partial_x)):\n",
    "            \n",
    "            img = cv2.imread(partial_x[i])\n",
    "            img = img/255.0\n",
    "            out_x.append(img)\n",
    "            \n",
    "        if (data_augmentation):\n",
    "            \n",
    "            aug_x, aug_y = get_augmented(np.asarray(out_x),out_y,size_aug)\n",
    "            for img in aug_x: out_x.append(img)\n",
    "            out_y = np.hstack((out_y,aug_y))\n",
    "            \n",
    "        yield np.asarray(out_x), np.asarray(out_y)\n",
    "        \n",
    "        begin = end\n",
    "        end += batch_size\n",
    "        \n",
    "        if (end>=len(paths)):\n",
    "            \n",
    "            begin = 0\n",
    "            end = batch_size\n",
    "            \n",
    "def vgg_loader(paths, labels, batch_size = 5, size_aug = -1, data_augmentation=False):\n",
    "    \n",
    "    begin = 0\n",
    "    end   = batch_size\n",
    "    \n",
    "    while True:\n",
    "        \n",
    "        partial_x = paths[begin:end]\n",
    "        out_y = labels[begin:end]\n",
    "        \n",
    "        out_x = []\n",
    "        \n",
    "        for i in range(len(partial_x)):\n",
    "            \n",
    "            img = load_img(partial_x[i])\n",
    "            img = img_to_array(img)\n",
    "            img = preprocess_input(img)\n",
    "            out_x.append(img)\n",
    "            \n",
    "        if (data_augmentation):\n",
    "            \n",
    "            aug_x, aug_y = get_augmented(np.asarray(out_x),out_y,size_aug)\n",
    "            for img in aug_x: out_x.append(img)\n",
    "            out_y = np.hstack((out_y,aug_y))\n",
    "            \n",
    "        yield np.asarray(out_x), np.asarray(out_y)\n",
    "        \n",
    "        begin = end\n",
    "        end += batch_size\n",
    "        \n",
    "        if (end>=len(paths)):\n",
    "            \n",
    "            begin = 0\n",
    "            end = batch_size         \n",
    "            \n",
    "train_loader = data_loader(X_train, y_train, batch_size = 5, size_aug = 5, data_augmentation=True)\n",
    "val_loader = data_loader(X_val, y_val, batch_size = 5)"
   ]
  },
  {
   "cell_type": "markdown",
   "metadata": {},
   "source": [
    "# Transfer Learning"
   ]
  },
  {
   "cell_type": "code",
   "execution_count": 35,
   "metadata": {
    "scrolled": true
   },
   "outputs": [
    {
     "name": "stdout",
     "output_type": "stream",
     "text": [
      "_________________________________________________________________\n",
      "Layer (type)                 Output Shape              Param #   \n",
      "=================================================================\n",
      "input_14 (InputLayer)        (None, 50, 50, 3)         0         \n",
      "_________________________________________________________________\n",
      "block1_conv1 (Conv2D)        (None, 50, 50, 64)        1792      \n",
      "_________________________________________________________________\n",
      "block1_conv2 (Conv2D)        (None, 50, 50, 64)        36928     \n",
      "_________________________________________________________________\n",
      "block1_pool (MaxPooling2D)   (None, 25, 25, 64)        0         \n",
      "_________________________________________________________________\n",
      "block2_conv1 (Conv2D)        (None, 25, 25, 128)       73856     \n",
      "_________________________________________________________________\n",
      "block2_conv2 (Conv2D)        (None, 25, 25, 128)       147584    \n",
      "_________________________________________________________________\n",
      "block2_pool (MaxPooling2D)   (None, 12, 12, 128)       0         \n",
      "_________________________________________________________________\n",
      "block3_conv1 (Conv2D)        (None, 12, 12, 256)       295168    \n",
      "_________________________________________________________________\n",
      "block3_conv2 (Conv2D)        (None, 12, 12, 256)       590080    \n",
      "_________________________________________________________________\n",
      "block3_conv3 (Conv2D)        (None, 12, 12, 256)       590080    \n",
      "_________________________________________________________________\n",
      "block3_pool (MaxPooling2D)   (None, 6, 6, 256)         0         \n",
      "_________________________________________________________________\n",
      "block4_conv1 (Conv2D)        (None, 6, 6, 512)         1180160   \n",
      "_________________________________________________________________\n",
      "block4_conv2 (Conv2D)        (None, 6, 6, 512)         2359808   \n",
      "_________________________________________________________________\n",
      "block4_conv3 (Conv2D)        (None, 6, 6, 512)         2359808   \n",
      "_________________________________________________________________\n",
      "block4_pool (MaxPooling2D)   (None, 3, 3, 512)         0         \n",
      "_________________________________________________________________\n",
      "block5_conv1 (Conv2D)        (None, 3, 3, 512)         2359808   \n",
      "_________________________________________________________________\n",
      "block5_conv2 (Conv2D)        (None, 3, 3, 512)         2359808   \n",
      "_________________________________________________________________\n",
      "block5_conv3 (Conv2D)        (None, 3, 3, 512)         2359808   \n",
      "_________________________________________________________________\n",
      "block5_pool (MaxPooling2D)   (None, 1, 1, 512)         0         \n",
      "_________________________________________________________________\n",
      "flatten_9 (Flatten)          (None, 512)               0         \n",
      "_________________________________________________________________\n",
      "dense_21 (Dense)             (None, 256)               131328    \n",
      "_________________________________________________________________\n",
      "dense_22 (Dense)             (None, 128)               32896     \n",
      "_________________________________________________________________\n",
      "dense_23 (Dense)             (None, 32)                4128      \n",
      "_________________________________________________________________\n",
      "dense_24 (Dense)             (None, 1)                 33        \n",
      "=================================================================\n",
      "Total params: 14,883,073\n",
      "Trainable params: 168,385\n",
      "Non-trainable params: 14,714,688\n",
      "_________________________________________________________________\n"
     ]
    }
   ],
   "source": [
    "model = VGG16(include_top=False, input_shape=(50, 50, 3))\n",
    "\n",
    "for layer in model.layers:\n",
    "    layer.trainable = False\n",
    "\n",
    "x = Flatten()(model.layers[-1].output)\n",
    "x = Dense(256, activation='relu')(x)\n",
    "x = Dense(128, activation='relu')(x)\n",
    "x = Dense(32, activation='relu')(x)\n",
    "x = Dense(1, activation='sigmoid')(x)\n",
    "\n",
    "model = Model(inputs=model.input, outputs=x)\n",
    "\n",
    "model.summary()"
   ]
  },
  {
   "cell_type": "code",
   "execution_count": 36,
   "metadata": {},
   "outputs": [],
   "source": [
    "#Compile\n",
    "model.compile(optimizer='Adam',\n",
    "              loss='binary_crossentropy',\n",
    "              metrics=['accuracy'])"
   ]
  },
  {
   "cell_type": "code",
   "execution_count": 37,
   "metadata": {},
   "outputs": [],
   "source": [
    "model.load_weights('vgg_classifier.h5')"
   ]
  },
  {
   "cell_type": "code",
   "execution_count": 38,
   "metadata": {},
   "outputs": [
    {
     "name": "stdout",
     "output_type": "stream",
     "text": [
      "Epoch 1/50\n",
      "1067/1067 [==============================] - 66s 62ms/step - loss: 0.2455 - acc: 0.9010 - val_loss: 0.4351 - val_acc: 0.8722\n",
      "\n",
      "Epoch 00001: loss improved from inf to 0.24555, saving model to vgg_classifier.h5\n",
      "\n",
      "Epoch 00001: val_loss improved from inf to 0.43506, saving model to vgg_loss_classifier.h5\n",
      "Epoch 2/50\n",
      "1067/1067 [==============================] - 69s 65ms/step - loss: 0.2346 - acc: 0.9073 - val_loss: 0.4567 - val_acc: 0.8662\n",
      "\n",
      "Epoch 00002: loss improved from 0.24555 to 0.23458, saving model to vgg_classifier.h5\n",
      "\n",
      "Epoch 00002: val_loss did not improve from 0.43506\n",
      "Epoch 3/50\n",
      "1067/1067 [==============================] - 68s 64ms/step - loss: 0.2280 - acc: 0.9097 - val_loss: 0.4847 - val_acc: 0.8647\n",
      "\n",
      "Epoch 00003: loss improved from 0.23458 to 0.22799, saving model to vgg_classifier.h5\n",
      "\n",
      "Epoch 00003: val_loss did not improve from 0.43506\n",
      "Epoch 4/50\n",
      "1067/1067 [==============================] - 69s 65ms/step - loss: 0.2127 - acc: 0.9179 - val_loss: 0.4653 - val_acc: 0.8677\n",
      "\n",
      "Epoch 00004: loss improved from 0.22799 to 0.21270, saving model to vgg_classifier.h5\n",
      "\n",
      "Epoch 00004: val_loss did not improve from 0.43506\n",
      "Epoch 5/50\n",
      "1067/1067 [==============================] - 69s 65ms/step - loss: 0.1944 - acc: 0.9242 - val_loss: 0.6143 - val_acc: 0.8692\n",
      "\n",
      "Epoch 00005: loss improved from 0.21270 to 0.19445, saving model to vgg_classifier.h5\n",
      "\n",
      "Epoch 00005: val_loss did not improve from 0.43506\n",
      "Epoch 6/50\n",
      "1067/1067 [==============================] - 69s 65ms/step - loss: 0.1948 - acc: 0.9230 - val_loss: 0.5367 - val_acc: 0.8737\n",
      "\n",
      "Epoch 00006: loss did not improve from 0.19445\n",
      "\n",
      "Epoch 00006: val_loss did not improve from 0.43506\n",
      "\n",
      "Epoch 00006: ReduceLROnPlateau reducing learning rate to 0.00020000000949949026.\n",
      "Epoch 7/50\n",
      "1067/1067 [==============================] - 69s 65ms/step - loss: 0.1750 - acc: 0.9321 - val_loss: 0.5342 - val_acc: 0.8767\n",
      "\n",
      "Epoch 00007: loss improved from 0.19445 to 0.17503, saving model to vgg_classifier.h5\n",
      "\n",
      "Epoch 00007: val_loss did not improve from 0.43506\n",
      "Epoch 8/50\n",
      "1067/1067 [==============================] - 69s 65ms/step - loss: 0.1587 - acc: 0.9387 - val_loss: 0.5790 - val_acc: 0.8722\n",
      "\n",
      "Epoch 00008: loss improved from 0.17503 to 0.15869, saving model to vgg_classifier.h5\n",
      "\n",
      "Epoch 00008: val_loss did not improve from 0.43506\n",
      "Epoch 9/50\n",
      "1067/1067 [==============================] - 69s 65ms/step - loss: 0.1489 - acc: 0.9442 - val_loss: 0.6073 - val_acc: 0.8872\n",
      "\n",
      "Epoch 00009: loss improved from 0.15869 to 0.14895, saving model to vgg_classifier.h5\n",
      "\n",
      "Epoch 00009: val_loss did not improve from 0.43506\n",
      "Epoch 10/50\n",
      "1067/1067 [==============================] - 69s 65ms/step - loss: 0.1433 - acc: 0.9440 - val_loss: 0.6725 - val_acc: 0.8722\n",
      "\n",
      "Epoch 00010: loss improved from 0.14895 to 0.14331, saving model to vgg_classifier.h5\n",
      "\n",
      "Epoch 00010: val_loss did not improve from 0.43506\n",
      "Epoch 11/50\n",
      "1067/1067 [==============================] - 69s 65ms/step - loss: 0.1417 - acc: 0.9450 - val_loss: 0.7847 - val_acc: 0.8782\n",
      "\n",
      "Epoch 00011: loss improved from 0.14331 to 0.14167, saving model to vgg_classifier.h5\n",
      "\n",
      "Epoch 00011: val_loss did not improve from 0.43506\n",
      "\n",
      "Epoch 00011: ReduceLROnPlateau reducing learning rate to 0.0001.\n",
      "Epoch 12/50\n",
      "1067/1067 [==============================] - 69s 65ms/step - loss: 0.1398 - acc: 0.9469 - val_loss: 0.8201 - val_acc: 0.8767\n",
      "\n",
      "Epoch 00012: loss improved from 0.14167 to 0.13980, saving model to vgg_classifier.h5\n",
      "\n",
      "Epoch 00012: val_loss did not improve from 0.43506\n",
      "Epoch 13/50\n",
      "1067/1067 [==============================] - 70s 65ms/step - loss: 0.1348 - acc: 0.9496 - val_loss: 0.8613 - val_acc: 0.8752\n",
      "\n",
      "Epoch 00013: loss improved from 0.13980 to 0.13485, saving model to vgg_classifier.h5\n",
      "\n",
      "Epoch 00013: val_loss did not improve from 0.43506\n",
      "Epoch 14/50\n",
      "1067/1067 [==============================] - 70s 65ms/step - loss: 0.1343 - acc: 0.9454 - val_loss: 0.9127 - val_acc: 0.8677\n",
      "\n",
      "Epoch 00014: loss improved from 0.13485 to 0.13426, saving model to vgg_classifier.h5\n",
      "\n",
      "Epoch 00014: val_loss did not improve from 0.43506\n",
      "Epoch 15/50\n",
      "1067/1067 [==============================] - 70s 65ms/step - loss: 0.1375 - acc: 0.9454 - val_loss: 0.9000 - val_acc: 0.8662\n",
      "\n",
      "Epoch 00015: loss did not improve from 0.13426\n",
      "\n",
      "Epoch 00015: val_loss did not improve from 0.43506\n",
      "Epoch 16/50\n",
      "1067/1067 [==============================] - 70s 65ms/step - loss: 0.1306 - acc: 0.9460 - val_loss: 0.9425 - val_acc: 0.8737\n",
      "\n",
      "Epoch 00016: loss improved from 0.13426 to 0.13059, saving model to vgg_classifier.h5\n",
      "\n",
      "Epoch 00016: val_loss did not improve from 0.43506\n",
      "Epoch 17/50\n",
      "1067/1067 [==============================] - 69s 65ms/step - loss: 0.1375 - acc: 0.9466 - val_loss: 0.8992 - val_acc: 0.8692\n",
      "\n",
      "Epoch 00017: loss did not improve from 0.13059\n",
      "\n",
      "Epoch 00017: val_loss did not improve from 0.43506\n",
      "Epoch 18/50\n",
      "1067/1067 [==============================] - 69s 64ms/step - loss: 0.1264 - acc: 0.9496 - val_loss: 0.9178 - val_acc: 0.8722\n",
      "\n",
      "Epoch 00018: loss improved from 0.13059 to 0.12641, saving model to vgg_classifier.h5\n",
      "\n",
      "Epoch 00018: val_loss did not improve from 0.43506\n",
      "Epoch 19/50\n",
      "1067/1067 [==============================] - 69s 65ms/step - loss: 0.1303 - acc: 0.9502 - val_loss: 0.9265 - val_acc: 0.8692\n",
      "\n",
      "Epoch 00019: loss did not improve from 0.12641\n",
      "\n",
      "Epoch 00019: val_loss did not improve from 0.43506\n",
      "Epoch 20/50\n",
      "1067/1067 [==============================] - 69s 65ms/step - loss: 0.1367 - acc: 0.9471 - val_loss: 0.9034 - val_acc: 0.8767\n",
      "\n",
      "Epoch 00020: loss did not improve from 0.12641\n",
      "\n",
      "Epoch 00020: val_loss did not improve from 0.43506\n",
      "Epoch 21/50\n",
      "1067/1067 [==============================] - 69s 65ms/step - loss: 0.1343 - acc: 0.9466 - val_loss: 0.9242 - val_acc: 0.8767\n",
      "\n",
      "Epoch 00021: loss did not improve from 0.12641\n",
      "\n",
      "Epoch 00021: val_loss did not improve from 0.43506\n",
      "Epoch 22/50\n",
      "1067/1067 [==============================] - 69s 65ms/step - loss: 0.1239 - acc: 0.9515 - val_loss: 0.9686 - val_acc: 0.8767\n",
      "\n",
      "Epoch 00022: loss improved from 0.12641 to 0.12392, saving model to vgg_classifier.h5\n",
      "\n",
      "Epoch 00022: val_loss did not improve from 0.43506\n",
      "Epoch 23/50\n",
      "1067/1067 [==============================] - 70s 65ms/step - loss: 0.1237 - acc: 0.9502 - val_loss: 0.9807 - val_acc: 0.8767\n",
      "\n",
      "Epoch 00023: loss improved from 0.12392 to 0.12370, saving model to vgg_classifier.h5\n",
      "\n",
      "Epoch 00023: val_loss did not improve from 0.43506\n",
      "Epoch 24/50\n",
      "1067/1067 [==============================] - 70s 65ms/step - loss: 0.1271 - acc: 0.9507 - val_loss: 1.0362 - val_acc: 0.8707\n",
      "\n",
      "Epoch 00024: loss did not improve from 0.12370\n",
      "\n",
      "Epoch 00024: val_loss did not improve from 0.43506\n",
      "Epoch 25/50\n",
      "1067/1067 [==============================] - 70s 65ms/step - loss: 0.1305 - acc: 0.9473 - val_loss: 1.0032 - val_acc: 0.8692\n",
      "\n",
      "Epoch 00025: loss did not improve from 0.12370\n",
      "\n",
      "Epoch 00025: val_loss did not improve from 0.43506\n",
      "Epoch 26/50\n",
      "1067/1067 [==============================] - 70s 65ms/step - loss: 0.1231 - acc: 0.9515 - val_loss: 1.0363 - val_acc: 0.8707\n",
      "\n",
      "Epoch 00026: loss improved from 0.12370 to 0.12306, saving model to vgg_classifier.h5\n",
      "\n",
      "Epoch 00026: val_loss did not improve from 0.43506\n",
      "Epoch 27/50\n",
      "1067/1067 [==============================] - 70s 65ms/step - loss: 0.1236 - acc: 0.9498 - val_loss: 1.0710 - val_acc: 0.8737\n",
      "\n",
      "Epoch 00027: loss did not improve from 0.12306\n",
      "\n",
      "Epoch 00027: val_loss did not improve from 0.43506\n",
      "Epoch 28/50\n",
      "1067/1067 [==============================] - 70s 65ms/step - loss: 0.1194 - acc: 0.9526 - val_loss: 1.0811 - val_acc: 0.8737\n",
      "\n",
      "Epoch 00028: loss improved from 0.12306 to 0.11939, saving model to vgg_classifier.h5\n",
      "\n",
      "Epoch 00028: val_loss did not improve from 0.43506\n",
      "Epoch 29/50\n",
      "1067/1067 [==============================] - 70s 66ms/step - loss: 0.1234 - acc: 0.9532 - val_loss: 1.0869 - val_acc: 0.8767\n",
      "\n",
      "Epoch 00029: loss did not improve from 0.11939\n",
      "\n",
      "Epoch 00029: val_loss did not improve from 0.43506\n",
      "Epoch 30/50\n",
      "1067/1067 [==============================] - 70s 65ms/step - loss: 0.1217 - acc: 0.9517 - val_loss: 1.0676 - val_acc: 0.8707\n",
      "\n",
      "Epoch 00030: loss did not improve from 0.11939\n",
      "\n",
      "Epoch 00030: val_loss did not improve from 0.43506\n",
      "Epoch 31/50\n",
      "1067/1067 [==============================] - 70s 65ms/step - loss: 0.1191 - acc: 0.9542 - val_loss: 1.1047 - val_acc: 0.8707\n",
      "\n",
      "Epoch 00031: loss improved from 0.11939 to 0.11911, saving model to vgg_classifier.h5\n"
     ]
    },
    {
     "name": "stdout",
     "output_type": "stream",
     "text": [
      "\n",
      "Epoch 00031: val_loss did not improve from 0.43506\n",
      "Epoch 32/50\n",
      "1067/1067 [==============================] - 68s 64ms/step - loss: 0.1298 - acc: 0.9507 - val_loss: 1.1221 - val_acc: 0.8662\n",
      "\n",
      "Epoch 00032: loss did not improve from 0.11911\n",
      "\n",
      "Epoch 00032: val_loss did not improve from 0.43506\n",
      "Epoch 33/50\n",
      "1067/1067 [==============================] - 68s 64ms/step - loss: 0.1292 - acc: 0.9493 - val_loss: 1.0471 - val_acc: 0.8677\n",
      "\n",
      "Epoch 00033: loss did not improve from 0.11911\n",
      "\n",
      "Epoch 00033: val_loss did not improve from 0.43506\n",
      "Epoch 34/50\n",
      "1067/1067 [==============================] - 68s 64ms/step - loss: 0.1173 - acc: 0.9534 - val_loss: 1.0981 - val_acc: 0.8662\n",
      "\n",
      "Epoch 00034: loss improved from 0.11911 to 0.11732, saving model to vgg_classifier.h5\n",
      "\n",
      "Epoch 00034: val_loss did not improve from 0.43506\n",
      "Epoch 35/50\n",
      "1067/1067 [==============================] - 68s 64ms/step - loss: 0.1134 - acc: 0.9547 - val_loss: 1.0887 - val_acc: 0.8752\n",
      "\n",
      "Epoch 00035: loss improved from 0.11732 to 0.11336, saving model to vgg_classifier.h5\n",
      "\n",
      "Epoch 00035: val_loss did not improve from 0.43506\n",
      "Epoch 36/50\n",
      "1067/1067 [==============================] - 68s 63ms/step - loss: 0.1138 - acc: 0.9540 - val_loss: 1.1201 - val_acc: 0.8722\n",
      "\n",
      "Epoch 00036: loss did not improve from 0.11336\n",
      "\n",
      "Epoch 00036: val_loss did not improve from 0.43506\n",
      "Epoch 37/50\n",
      "1067/1067 [==============================] - 67s 63ms/step - loss: 0.1163 - acc: 0.9535 - val_loss: 1.1474 - val_acc: 0.8722\n",
      "\n",
      "Epoch 00037: loss did not improve from 0.11336\n",
      "\n",
      "Epoch 00037: val_loss did not improve from 0.43506\n",
      "Epoch 38/50\n",
      "1067/1067 [==============================] - 68s 63ms/step - loss: 0.1210 - acc: 0.9525 - val_loss: 1.1208 - val_acc: 0.8797\n",
      "\n",
      "Epoch 00038: loss did not improve from 0.11336\n",
      "\n",
      "Epoch 00038: val_loss did not improve from 0.43506\n",
      "Epoch 39/50\n",
      "1067/1067 [==============================] - 68s 64ms/step - loss: 0.1128 - acc: 0.9550 - val_loss: 1.1252 - val_acc: 0.8797\n",
      "\n",
      "Epoch 00039: loss improved from 0.11336 to 0.11283, saving model to vgg_classifier.h5\n",
      "\n",
      "Epoch 00039: val_loss did not improve from 0.43506\n",
      "Epoch 40/50\n",
      "1067/1067 [==============================] - 68s 64ms/step - loss: 0.1213 - acc: 0.9530 - val_loss: 1.0792 - val_acc: 0.8737\n",
      "\n",
      "Epoch 00040: loss did not improve from 0.11283\n",
      "\n",
      "Epoch 00040: val_loss did not improve from 0.43506\n",
      "Epoch 41/50\n",
      "1067/1067 [==============================] - 68s 63ms/step - loss: 0.1263 - acc: 0.9512 - val_loss: 1.0558 - val_acc: 0.8782\n",
      "\n",
      "Epoch 00041: loss did not improve from 0.11283\n",
      "\n",
      "Epoch 00041: val_loss did not improve from 0.43506\n",
      "Epoch 42/50\n",
      "1067/1067 [==============================] - 67s 63ms/step - loss: 0.1164 - acc: 0.9536 - val_loss: 1.0933 - val_acc: 0.8752\n",
      "\n",
      "Epoch 00042: loss did not improve from 0.11283\n",
      "\n",
      "Epoch 00042: val_loss did not improve from 0.43506\n",
      "Epoch 43/50\n",
      "1067/1067 [==============================] - 68s 63ms/step - loss: 0.1145 - acc: 0.9542 - val_loss: 1.1126 - val_acc: 0.8812\n",
      "\n",
      "Epoch 00043: loss did not improve from 0.11283\n",
      "\n",
      "Epoch 00043: val_loss did not improve from 0.43506\n",
      "Epoch 44/50\n",
      "1067/1067 [==============================] - 67s 63ms/step - loss: 0.1119 - acc: 0.9567 - val_loss: 1.1045 - val_acc: 0.8677\n",
      "\n",
      "Epoch 00044: loss improved from 0.11283 to 0.11190, saving model to vgg_classifier.h5\n",
      "\n",
      "Epoch 00044: val_loss did not improve from 0.43506\n",
      "Epoch 45/50\n",
      "1067/1067 [==============================] - 68s 63ms/step - loss: 0.1187 - acc: 0.9505 - val_loss: 1.0992 - val_acc: 0.8767\n",
      "\n",
      "Epoch 00045: loss did not improve from 0.11190\n",
      "\n",
      "Epoch 00045: val_loss did not improve from 0.43506\n",
      "Epoch 46/50\n",
      "1067/1067 [==============================] - 68s 64ms/step - loss: 0.1234 - acc: 0.9509 - val_loss: 1.1270 - val_acc: 0.8677\n",
      "\n",
      "Epoch 00046: loss did not improve from 0.11190\n",
      "\n",
      "Epoch 00046: val_loss did not improve from 0.43506\n",
      "Epoch 47/50\n",
      "1067/1067 [==============================] - 67s 63ms/step - loss: 0.1166 - acc: 0.9506 - val_loss: 1.1238 - val_acc: 0.8767\n",
      "\n",
      "Epoch 00047: loss did not improve from 0.11190\n",
      "\n",
      "Epoch 00047: val_loss did not improve from 0.43506\n",
      "Epoch 48/50\n",
      "1067/1067 [==============================] - 68s 64ms/step - loss: 0.1090 - acc: 0.9582 - val_loss: 1.1544 - val_acc: 0.8677\n",
      "\n",
      "Epoch 00048: loss improved from 0.11190 to 0.10897, saving model to vgg_classifier.h5\n",
      "\n",
      "Epoch 00048: val_loss did not improve from 0.43506\n",
      "Epoch 49/50\n",
      "1067/1067 [==============================] - 67s 63ms/step - loss: 0.1122 - acc: 0.9528 - val_loss: 1.1366 - val_acc: 0.8752\n",
      "\n",
      "Epoch 00049: loss did not improve from 0.10897\n",
      "\n",
      "Epoch 00049: val_loss did not improve from 0.43506\n",
      "Epoch 50/50\n",
      "1067/1067 [==============================] - 68s 63ms/step - loss: 0.1116 - acc: 0.9552 - val_loss: 1.1454 - val_acc: 0.8737\n",
      "\n",
      "Epoch 00050: loss did not improve from 0.10897\n",
      "\n",
      "Epoch 00050: val_loss did not improve from 0.43506\n"
     ]
    }
   ],
   "source": [
    "#VGG Loader\n",
    "train_loader = vgg_loader(X_train, y_train, batch_size = 5, size_aug = 5, data_augmentation=True)\n",
    "val_loader = vgg_loader(X_val, y_val, batch_size = 5)\n",
    "\n",
    "#Callbacks\n",
    "mc1 = ModelCheckpoint('vgg_classifier.h5', monitor='loss', mode='min', verbose=1, save_best_only=True)\n",
    "mc2 = ModelCheckpoint('vgg_loss_classifier.h5', monitor='val_loss', mode='min', verbose=1, save_best_only=True)\n",
    "reduce_lr = ReduceLROnPlateau(monitor='val_loss', factor=0.2, patience=5, min_lr=0.0001, verbose=1)\n",
    "callbacks=[mc1,mc2,reduce_lr]\n",
    "\n",
    "#Fit model\n",
    "STEP_SIZE_TRAIN=len(X_train)//5\n",
    "STEP_SIZE_VALIDATION=len(X_val)//5\n",
    "\n",
    "hist = model.fit_generator(\n",
    "   train_loader,\n",
    "   epochs=50,\n",
    "   steps_per_epoch=STEP_SIZE_TRAIN,\n",
    "   validation_data=val_loader,\n",
    "   validation_steps=STEP_SIZE_VALIDATION,\n",
    "   verbose=1,\n",
    "   callbacks=callbacks\n",
    ")"
   ]
  },
  {
   "cell_type": "code",
   "execution_count": 39,
   "metadata": {},
   "outputs": [
    {
     "name": "stdout",
     "output_type": "stream",
     "text": [
      "Epoch 1/10\n",
      "1067/1067 [==============================] - 69s 64ms/step - loss: 0.1154 - acc: 0.9531 - val_loss: 1.1141 - val_acc: 0.8752\n",
      "\n",
      "Epoch 00001: loss did not improve from 0.10897\n",
      "\n",
      "Epoch 00001: val_loss did not improve from 0.43506\n",
      "Epoch 2/10\n",
      "1067/1067 [==============================] - 68s 64ms/step - loss: 0.1126 - acc: 0.9538 - val_loss: 1.0856 - val_acc: 0.8722\n",
      "\n",
      "Epoch 00002: loss did not improve from 0.10897\n",
      "\n",
      "Epoch 00002: val_loss did not improve from 0.43506\n",
      "Epoch 3/10\n",
      "1067/1067 [==============================] - 68s 64ms/step - loss: 0.1127 - acc: 0.9528 - val_loss: 1.0935 - val_acc: 0.8767\n",
      "\n",
      "Epoch 00003: loss did not improve from 0.10897\n",
      "\n",
      "Epoch 00003: val_loss did not improve from 0.43506\n",
      "Epoch 4/10\n",
      "1067/1067 [==============================] - 68s 64ms/step - loss: 0.1102 - acc: 0.9555 - val_loss: 1.1128 - val_acc: 0.8767\n",
      "\n",
      "Epoch 00004: loss did not improve from 0.10897\n",
      "\n",
      "Epoch 00004: val_loss did not improve from 0.43506\n",
      "Epoch 5/10\n",
      "1067/1067 [==============================] - 68s 64ms/step - loss: 0.1198 - acc: 0.9530 - val_loss: 1.0959 - val_acc: 0.8722\n",
      "\n",
      "Epoch 00005: loss did not improve from 0.10897\n",
      "\n",
      "Epoch 00005: val_loss did not improve from 0.43506\n",
      "Epoch 6/10\n",
      "1067/1067 [==============================] - 68s 64ms/step - loss: 0.1154 - acc: 0.9536 - val_loss: 1.1040 - val_acc: 0.8692\n",
      "\n",
      "Epoch 00006: loss did not improve from 0.10897\n",
      "\n",
      "Epoch 00006: val_loss did not improve from 0.43506\n",
      "Epoch 7/10\n",
      "1067/1067 [==============================] - 68s 64ms/step - loss: 0.1118 - acc: 0.9560 - val_loss: 1.1334 - val_acc: 0.8692\n",
      "\n",
      "Epoch 00007: loss did not improve from 0.10897\n",
      "\n",
      "Epoch 00007: val_loss did not improve from 0.43506\n",
      "Epoch 8/10\n",
      "1067/1067 [==============================] - 68s 64ms/step - loss: 0.1054 - acc: 0.9581 - val_loss: 1.1294 - val_acc: 0.8767\n",
      "\n",
      "Epoch 00008: loss improved from 0.10897 to 0.10544, saving model to vgg_classifier.h5\n",
      "\n",
      "Epoch 00008: val_loss did not improve from 0.43506\n",
      "Epoch 9/10\n",
      "1067/1067 [==============================] - 68s 64ms/step - loss: 0.1133 - acc: 0.9536 - val_loss: 1.1434 - val_acc: 0.8722\n",
      "\n",
      "Epoch 00009: loss did not improve from 0.10544\n",
      "\n",
      "Epoch 00009: val_loss did not improve from 0.43506\n",
      "Epoch 10/10\n",
      "1067/1067 [==============================] - 68s 64ms/step - loss: 0.1158 - acc: 0.9531 - val_loss: 1.1288 - val_acc: 0.8737\n",
      "\n",
      "Epoch 00010: loss did not improve from 0.10544\n",
      "\n",
      "Epoch 00010: val_loss did not improve from 0.43506\n"
     ]
    }
   ],
   "source": [
    "hist2 = model.fit_generator(\n",
    "   train_loader,\n",
    "   epochs=10,\n",
    "   steps_per_epoch=STEP_SIZE_TRAIN,\n",
    "   validation_data=val_loader,\n",
    "   validation_steps=STEP_SIZE_VALIDATION,\n",
    "   verbose=1,\n",
    "   callbacks=callbacks\n",
    ")"
   ]
  },
  {
   "cell_type": "markdown",
   "metadata": {},
   "source": [
    "# Classification model"
   ]
  },
  {
   "cell_type": "code",
   "execution_count": 5,
   "metadata": {},
   "outputs": [
    {
     "name": "stdout",
     "output_type": "stream",
     "text": [
      "_________________________________________________________________\n",
      "Layer (type)                 Output Shape              Param #   \n",
      "=================================================================\n",
      "input_base (Conv2D)          (None, 48, 48, 32)        896       \n",
      "_________________________________________________________________\n",
      "max_pooling2d_1 (MaxPooling2 (None, 48, 48, 32)        0         \n",
      "_________________________________________________________________\n",
      "conv2d_1 (Conv2D)            (None, 46, 46, 16)        4624      \n",
      "_________________________________________________________________\n",
      "max_pooling2d_2 (MaxPooling2 (None, 46, 46, 16)        0         \n",
      "_________________________________________________________________\n",
      "conv2d_2 (Conv2D)            (None, 44, 44, 8)         1160      \n",
      "_________________________________________________________________\n",
      "max_pooling2d_3 (MaxPooling2 (None, 44, 44, 8)         0         \n",
      "_________________________________________________________________\n",
      "conv2d_3 (Conv2D)            (None, 42, 42, 4)         292       \n",
      "_________________________________________________________________\n",
      "max_pooling2d_4 (MaxPooling2 (None, 42, 42, 4)         0         \n",
      "_________________________________________________________________\n",
      "output_flatten (Flatten)     (None, 7056)              0         \n",
      "_________________________________________________________________\n",
      "dense_1 (Dense)              (None, 32)                225824    \n",
      "_________________________________________________________________\n",
      "dense_2 (Dense)              (None, 16)                528       \n",
      "_________________________________________________________________\n",
      "output_dense (Dense)         (None, 8)                 136       \n",
      "_________________________________________________________________\n",
      "dense_3 (Dense)              (None, 1)                 9         \n",
      "=================================================================\n",
      "Total params: 233,469\n",
      "Trainable params: 233,469\n",
      "Non-trainable params: 0\n",
      "_________________________________________________________________\n"
     ]
    }
   ],
   "source": [
    "#Base model\n",
    "model = Sequential()\n",
    "\n",
    "model.add(Conv2D(input_shape=(50,50,3),filters=32,kernel_size=(3,3),activation=\"relu\", name='input_base'))\n",
    "model.add(MaxPool2D(pool_size=(1,1)))\n",
    "model.add(Conv2D(filters=16,kernel_size=(3,3), activation=\"relu\"))\n",
    "model.add(MaxPool2D(pool_size=(1,1)))\n",
    "model.add(Conv2D(filters=8,kernel_size=(3,3), activation=\"relu\"))\n",
    "model.add(MaxPool2D(pool_size=(1,1)))\n",
    "model.add(Conv2D(filters=4,kernel_size=(3,3), activation=\"relu\"))\n",
    "model.add(MaxPool2D(pool_size=(1,1)))\n",
    "\n",
    "#Classifier\n",
    "model.add(Flatten(name='output_flatten'))\n",
    "model.add(Dense(units=32,activation=\"relu\"))\n",
    "model.add(Dense(units=16,activation=\"relu\"))\n",
    "model.add(Dense(units=8,activation=\"relu\",name='output_dense'))\n",
    "model.add(Dense(units=1, activation=\"sigmoid\"))\n",
    "\n",
    "model.summary()"
   ]
  },
  {
   "cell_type": "markdown",
   "metadata": {},
   "source": [
    "* Training the model"
   ]
  },
  {
   "cell_type": "code",
   "execution_count": 6,
   "metadata": {},
   "outputs": [],
   "source": [
    "#Compile\n",
    "model.compile(optimizer='Adam',\n",
    "              loss='binary_crossentropy',\n",
    "              metrics=['accuracy'])"
   ]
  },
  {
   "cell_type": "code",
   "execution_count": null,
   "metadata": {},
   "outputs": [],
   "source": [
    "#Callbacks\n",
    "mc1 = ModelCheckpoint('classifier.h5', monitor='loss', mode='min', verbose=1, save_best_only=True)\n",
    "mc2 = ModelCheckpoint('loss_classifier.h5', monitor='val_loss', mode='min', verbose=1, save_best_only=True)\n",
    "reduce_lr = ReduceLROnPlateau(monitor='val_loss', factor=0.2, patience=5, min_lr=0.0001, verbose=1)\n",
    "callbacks=[mc1,mc2,reduce_lr]\n",
    "\n",
    "#Fit model\n",
    "STEP_SIZE_TRAIN=len(X_train)//5\n",
    "STEP_SIZE_VALIDATION=len(X_val)//5\n",
    "\n",
    "hist = model.fit_generator(\n",
    "   train_loader,\n",
    "   epochs=10,\n",
    "   steps_per_epoch=STEP_SIZE_TRAIN,\n",
    "   validation_data=val_loader,\n",
    "   validation_steps=STEP_SIZE_VALIDATION,\n",
    "   verbose=1,\n",
    "   callbacks=callbacks\n",
    ")"
   ]
  },
  {
   "cell_type": "code",
   "execution_count": 7,
   "metadata": {},
   "outputs": [],
   "source": [
    "model.load_weights('weights/loss_classifier.h5')"
   ]
  },
  {
   "cell_type": "markdown",
   "metadata": {},
   "source": [
    "Evaluate Base Model"
   ]
  },
  {
   "cell_type": "code",
   "execution_count": 8,
   "metadata": {},
   "outputs": [
    {
     "name": "stdout",
     "output_type": "stream",
     "text": [
      "133/133 [==============================] - 2s 13ms/step\n"
     ]
    },
    {
     "data": {
      "text/plain": [
       "[0.24434927634280385, 0.9203007566301447]"
      ]
     },
     "execution_count": 8,
     "metadata": {},
     "output_type": "execute_result"
    }
   ],
   "source": [
    "test_loader = data_loader(X_test, y_test, batch_size = 5)\n",
    "STEP_SIZE_TEST=len(X_test)//5\n",
    "model.evaluate_generator(test_loader,steps = STEP_SIZE_TEST,verbose=1)"
   ]
  },
  {
   "cell_type": "code",
   "execution_count": 12,
   "metadata": {},
   "outputs": [
    {
     "name": "stderr",
     "output_type": "stream",
     "text": [
      "100%|██████████| 133/133 [00:01<00:00, 75.68it/s]\n"
     ]
    }
   ],
   "source": [
    "pred = []\n",
    "ground = []\n",
    "\n",
    "STEP_SIZE_TEST=len(X_test)//5\n",
    "test_loader = data_loader(X_test, y_test, batch_size = 5)\n",
    "\n",
    "for i in tqdm(range(STEP_SIZE_TEST)):\n",
    "\n",
    "    x, y = next(test_loader)\n",
    "    \n",
    "    ground.extend(list(y))\n",
    "    \n",
    "    predictions = model.predict_on_batch(x)\n",
    "    \n",
    "    predictions[predictions>=0.5]=1\n",
    "    predictions[predictions<0.5]=0\n",
    "    \n",
    "    pred.extend(list(predictions.flatten()))"
   ]
  },
  {
   "cell_type": "code",
   "execution_count": 13,
   "metadata": {},
   "outputs": [],
   "source": [
    "pred = np.asarray(pred).astype(int)\n",
    "ground = np.asarray(ground).astype(int)"
   ]
  },
  {
   "cell_type": "code",
   "execution_count": 16,
   "metadata": {},
   "outputs": [
    {
     "name": "stdout",
     "output_type": "stream",
     "text": [
      "Predict   0         1         \n",
      "Actual\n",
      "0         422       22        \n",
      "\n",
      "1         31        190       \n",
      "\n",
      "\n",
      "\n",
      "\n",
      "\n",
      "Overall Statistics : \n",
      "\n",
      "95% CI                                                            (0.89972,0.94089)\n",
      "ACC Macro                                                         0.9203\n",
      "ARI                                                               0.70186\n",
      "AUNP                                                              0.90509\n",
      "AUNU                                                              0.90509\n",
      "Bangdiwala B                                                      0.8637\n",
      "Bennett S                                                         0.8406\n",
      "CBA                                                               0.89565\n",
      "CSI                                                               0.81899\n",
      "Chi-Squared                                                       445.98961\n",
      "Chi-Squared DF                                                    1\n",
      "Conditional Entropy                                               0.38434\n",
      "Cramer V                                                          0.81894\n",
      "Cross Entropy                                                     0.91789\n",
      "F1 Macro                                                          0.90926\n",
      "F1 Micro                                                          0.9203\n",
      "FNR Macro                                                         0.09491\n",
      "FNR Micro                                                         0.0797\n",
      "FPR Macro                                                         0.09491\n",
      "FPR Micro                                                         0.0797\n",
      "Gwet AC1                                                          0.8579\n",
      "Hamming Loss                                                      0.0797\n",
      "Joint Entropy                                                     1.30163\n",
      "KL Divergence                                                     0.0006\n",
      "Kappa                                                             0.81855\n",
      "Kappa 95% CI                                                      (0.77169,0.86541)\n",
      "Kappa No Prevalence                                               0.8406\n",
      "Kappa Standard Error                                              0.02391\n",
      "Kappa Unbiased                                                    0.81851\n",
      "Krippendorff Alpha                                                0.81865\n",
      "Lambda A                                                          0.76018\n",
      "Lambda B                                                          0.75\n",
      "Mutual Information                                                0.51873\n",
      "NIR                                                               0.66767\n",
      "Overall ACC                                                       0.9203\n",
      "Overall CEN                                                       0.36142\n",
      "Overall J                                                         (1.67031,0.83516)\n",
      "Overall MCC                                                       0.81894\n",
      "Overall MCEN                                                      0.29166\n",
      "Overall RACC                                                      0.56076\n",
      "Overall RACCU                                                     0.56086\n",
      "P-Value                                                           0.0\n",
      "PPV Macro                                                         0.9139\n",
      "PPV Micro                                                         0.9203\n",
      "Pearson C                                                         0.63359\n",
      "Phi-Squared                                                       0.67066\n",
      "RCI                                                               0.56551\n",
      "RR                                                                332.5\n",
      "Reference Entropy                                                 0.91729\n",
      "Response Entropy                                                  0.90307\n",
      "SOA1(Landis & Koch)                                               Almost Perfect\n",
      "SOA2(Fleiss)                                                      Excellent\n",
      "SOA3(Altman)                                                      Very Good\n",
      "SOA4(Cicchetti)                                                   Excellent\n",
      "SOA5(Cramer)                                                      Very Strong\n",
      "SOA6(Matthews)                                                    Strong\n",
      "Scott PI                                                          0.81851\n",
      "Standard Error                                                    0.0105\n",
      "TNR Macro                                                         0.90509\n",
      "TNR Micro                                                         0.9203\n",
      "TPR Macro                                                         0.90509\n",
      "TPR Micro                                                         0.9203\n",
      "Zero-one Loss                                                     53\n",
      "\n",
      "Class Statistics :\n",
      "\n",
      "Classes                                                           0             1             \n",
      "ACC(Accuracy)                                                     0.9203        0.9203        \n",
      "AGF(Adjusted F-score)                                             0.91719       0.90038       \n",
      "AGM(Adjusted geometric mean)                                      0.89292       0.92257       \n",
      "AM(Difference between automatic and manual classification)        9             -9            \n",
      "AUC(Area under the ROC curve)                                     0.90509       0.90509       \n",
      "AUCI(AUC value interpretation)                                    Excellent     Excellent     \n",
      "AUPR(Area under the PR curve)                                     0.94101       0.87798       \n",
      "BCD(Bray-Curtis dissimilarity)                                    0.00677       0.00677       \n",
      "BM(Informedness or bookmaker informedness)                        0.81018       0.81018       \n",
      "CEN(Confusion entropy)                                            0.29898       0.49076       \n",
      "DOR(Diagnostic odds ratio)                                        117.56598     117.56598     \n",
      "DP(Discriminant power)                                            1.14141       1.14141       \n",
      "DPI(Discriminant power interpretation)                            Limited       Limited       \n",
      "ERR(Error rate)                                                   0.0797        0.0797        \n",
      "F0.5(F0.5 score)                                                  0.93528       0.88868       \n",
      "F1(F1 score - harmonic mean of precision and sensitivity)         0.94091       0.8776        \n",
      "F2(F2 score)                                                      0.94661       0.86679       \n",
      "FDR(False discovery rate)                                         0.06843       0.10377       \n",
      "FN(False negative/miss/type 2 error)                              22            31            \n",
      "FNR(Miss rate or false negative rate)                             0.04955       0.14027       \n",
      "FOR(False omission rate)                                          0.10377       0.06843       \n",
      "FP(False positive/type 1 error/false alarm)                       31            22            \n",
      "FPR(Fall-out or false positive rate)                              0.14027       0.04955       \n",
      "G(G-measure geometric mean of precision and sensitivity)          0.94096       0.87779       \n",
      "GI(Gini index)                                                    0.81018       0.81018       \n",
      "GM(G-mean geometric mean of specificity and sensitivity)          0.90395       0.90395       \n",
      "IBA(Index of balanced accuracy)                                   0.89126       0.743         \n",
      "ICSI(Individual classification success index)                     0.88202       0.75595       \n",
      "IS(Information score)                                             0.48053       1.43124       \n",
      "J(Jaccard index)                                                  0.88842       0.78189       \n",
      "LS(Lift score)                                                    1.39525       2.69679       \n",
      "MCC(Matthews correlation coefficient)                             0.81894       0.81894       \n",
      "MCCI(Matthews correlation coefficient interpretation)             Strong        Strong        \n",
      "MCEN(Modified confusion entropy)                                  0.46227       0.69271       \n",
      "MK(Markedness)                                                    0.82779       0.82779       \n",
      "N(Condition negative)                                             221           444           \n",
      "NLR(Negative likelihood ratio)                                    0.05763       0.14758       \n",
      "NLRI(Negative likelihood ratio interpretation)                    Good          Fair          \n",
      "NPV(Negative predictive value)                                    0.89623       0.93157       \n",
      "OC(Overlap coefficient)                                           0.95045       0.89623       \n",
      "OOC(Otsuka-Ochiai coefficient)                                    0.94096       0.87779       \n",
      "OP(Optimized precision)                                           0.87018       0.87018       \n",
      "P(Condition positive or support)                                  444           221           \n",
      "PLR(Positive likelihood ratio)                                    6.77579       17.35088      \n",
      "PLRI(Positive likelihood ratio interpretation)                    Fair          Good          \n",
      "POP(Population)                                                   665           665           \n",
      "PPV(Precision or positive predictive value)                       0.93157       0.89623       \n",
      "PRE(Prevalence)                                                   0.66767       0.33233       \n",
      "Q(Yule Q - coefficient of colligation)                            0.98313       0.98313       \n",
      "QI(Yule Q interpretation)                                         Strong        Strong        \n",
      "RACC(Random accuracy)                                             0.45482       0.10595       \n",
      "RACCU(Random accuracy unbiased)                                   0.45486       0.10599       \n",
      "TN(True negative/correct rejection)                               190           422           \n",
      "TNR(Specificity or true negative rate)                            0.85973       0.95045       \n",
      "TON(Test outcome negative)                                        212           453           \n",
      "TOP(Test outcome positive)                                        453           212           \n",
      "TP(True positive/hit)                                             422           190           \n",
      "TPR(Sensitivity, recall, hit rate, or true positive rate)         0.95045       0.85973       \n",
      "Y(Youden index)                                                   0.81018       0.81018       \n",
      "dInd(Distance index)                                              0.14877       0.14877       \n",
      "sInd(Similarity index)                                            0.89481       0.89481       \n",
      "\n"
     ]
    }
   ],
   "source": [
    "cm = ConfusionMatrix(actual_vector=ground, predict_vector=pred)\n",
    "print(cm)"
   ]
  },
  {
   "cell_type": "code",
   "execution_count": 17,
   "metadata": {},
   "outputs": [
    {
     "data": {
      "text/plain": [
       "<AxesSubplot:title={'center':'Confusion Matrix (Normalized)'}, xlabel='Predicted Classes', ylabel='Actual Classes'>"
      ]
     },
     "execution_count": 17,
     "metadata": {},
     "output_type": "execute_result"
    },
    {
     "data": {
      "image/png": "[encoded data removed]",
      "text/plain": [
       "<Figure size 432x288 with 2 Axes>"
      ]
     },
     "metadata": {
      "needs_background": "light"
     },
     "output_type": "display_data"
    }
   ],
   "source": [
    "import matplotlib.pyplot as plt\n",
    "\n",
    "cm.plot(cmap=plt.cm.Reds,normalized=True,number_label=True)"
   ]
  },
  {
   "cell_type": "markdown",
   "metadata": {},
   "source": [
    "Mixed Model"
   ]
  },
  {
   "cell_type": "code",
   "execution_count": 7,
   "metadata": {},
   "outputs": [
    {
     "data": {
      "text/plain": [
       "((10, 50, 50, 3), (10, 256), (10,))"
      ]
     },
     "execution_count": 7,
     "metadata": {},
     "output_type": "execute_result"
    }
   ],
   "source": [
    "def get_splited_hist(img):\n",
    "    \n",
    "    scaler = MinMaxScaler()\n",
    "    \n",
    "    b,g,r = cv2.split(img)\n",
    "\n",
    "    hist_b = cv2.calcHist([b],[0],None,[256],[0,256])\n",
    "    hist_g = cv2.calcHist([g],[0],None,[256],[0,256])\n",
    "    hist_r = cv2.calcHist([r],[0],None,[256],[0,256])\n",
    "\n",
    "    hist_data = hist_b.flatten() + hist_g.flatten() + hist_r.flatten()\n",
    "\n",
    "    return scaler.fit_transform(hist_data.reshape(-1,1)).flatten()\n",
    "\n",
    "def data_loader_mixed(paths, labels, batch_size = 5, size_aug = -1, data_augmentation=False):\n",
    "    \n",
    "    begin = 0\n",
    "    end   = batch_size\n",
    "    \n",
    "    while True:\n",
    "        \n",
    "        partial_x = paths[begin:end]\n",
    "        out_y = labels[begin:end]\n",
    "        \n",
    "        out_x    = []\n",
    "        out_hist = []\n",
    "        \n",
    "        for i in range(len(partial_x)):\n",
    "            \n",
    "            img = cv2.imread(partial_x[i])\n",
    "            \n",
    "            hist_data = get_splited_hist(img)\n",
    "            out_hist.append(hist_data)    \n",
    "                \n",
    "            img = img/255.0\n",
    "            out_x.append(img)\n",
    "            \n",
    "        if (data_augmentation):\n",
    "            \n",
    "            aug_x, aug_y = get_augmented(np.asarray(out_x),out_y,size_aug)\n",
    "            for img in aug_x: out_x.append(img)\n",
    "            for img in aug_x: out_hist.append(get_splited_hist(img))\n",
    "            out_y = np.hstack((out_y,aug_y))\n",
    "            \n",
    "        yield [np.asarray(out_x),np.asarray(out_hist)], np.asarray(out_y)\n",
    "        \n",
    "        begin = end\n",
    "        end += batch_size\n",
    "        \n",
    "        if (end>=len(paths)):\n",
    "            \n",
    "            begin = 0\n",
    "            end = batch_size\n",
    "            \n",
    "train_loader_mixed = data_loader_mixed(X_train, y_train, batch_size = 5, size_aug = 5, data_augmentation=True)\n",
    "x_data, y = next(train_loader_mixed)\n",
    "x_data[0].shape,x_data[1].shape,y.shape"
   ]
  },
  {
   "cell_type": "markdown",
   "metadata": {},
   "source": [
    "Mixed Model"
   ]
  },
  {
   "cell_type": "code",
   "execution_count": 19,
   "metadata": {},
   "outputs": [
    {
     "name": "stdout",
     "output_type": "stream",
     "text": [
      "__________________________________________________________________________________________________\n",
      "Layer (type)                    Output Shape         Param #     Connected to                     \n",
      "==================================================================================================\n",
      "input_base_input (InputLayer)   (None, 50, 50, 3)    0                                            \n",
      "__________________________________________________________________________________________________\n",
      "input_base (Conv2D)             (None, 48, 48, 32)   896         input_base_input[0][0]           \n",
      "__________________________________________________________________________________________________\n",
      "max_pooling2d_1 (MaxPooling2D)  (None, 48, 48, 32)   0           input_base[0][0]                 \n",
      "__________________________________________________________________________________________________\n",
      "conv2d_1 (Conv2D)               (None, 46, 46, 16)   4624        max_pooling2d_1[0][0]            \n",
      "__________________________________________________________________________________________________\n",
      "max_pooling2d_2 (MaxPooling2D)  (None, 46, 46, 16)   0           conv2d_1[0][0]                   \n",
      "__________________________________________________________________________________________________\n",
      "conv2d_2 (Conv2D)               (None, 44, 44, 8)    1160        max_pooling2d_2[0][0]            \n",
      "__________________________________________________________________________________________________\n",
      "max_pooling2d_3 (MaxPooling2D)  (None, 44, 44, 8)    0           conv2d_2[0][0]                   \n",
      "__________________________________________________________________________________________________\n",
      "conv2d_3 (Conv2D)               (None, 42, 42, 4)    292         max_pooling2d_3[0][0]            \n",
      "__________________________________________________________________________________________________\n",
      "max_pooling2d_4 (MaxPooling2D)  (None, 42, 42, 4)    0           conv2d_3[0][0]                   \n",
      "__________________________________________________________________________________________________\n",
      "output_flatten (Flatten)        (None, 7056)         0           max_pooling2d_4[0][0]            \n",
      "__________________________________________________________________________________________________\n",
      "dense_4 (Dense)                 (None, 256)          1806592     output_flatten[0][0]             \n",
      "__________________________________________________________________________________________________\n",
      "input_conc (InputLayer)         (None, 256)          0                                            \n",
      "__________________________________________________________________________________________________\n",
      "concatenate_1 (Concatenate)     (None, 512)          0           dense_4[0][0]                    \n",
      "                                                                 input_conc[0][0]                 \n",
      "__________________________________________________________________________________________________\n",
      "dense_5 (Dense)                 (None, 128)          65664       concatenate_1[0][0]              \n",
      "__________________________________________________________________________________________________\n",
      "dense_6 (Dense)                 (None, 32)           4128        dense_5[0][0]                    \n",
      "__________________________________________________________________________________________________\n",
      "dense_7 (Dense)                 (None, 16)           528         dense_6[0][0]                    \n",
      "__________________________________________________________________________________________________\n",
      "dense_8 (Dense)                 (None, 8)            136         dense_7[0][0]                    \n",
      "__________________________________________________________________________________________________\n",
      "dense_9 (Dense)                 (None, 1)            9           dense_8[0][0]                    \n",
      "==================================================================================================\n",
      "Total params: 1,884,029\n",
      "Trainable params: 1,884,029\n",
      "Non-trainable params: 0\n",
      "__________________________________________________________________________________________________\n"
     ]
    }
   ],
   "source": [
    "input_tab = Input(shape=(256,),name='input_conc')\n",
    "output_dense = model.get_layer('output_flatten').output\n",
    "g = Dense(units=256,activation=\"relu\")(output_dense)\n",
    "\n",
    "concatenate_layer = Concatenate()([g,input_tab])\n",
    "\n",
    "conc_mix = Model([model.input,input_tab],concatenate_layer)\n",
    "\n",
    "x = Dense(units=128,activation=\"relu\")(conc_mix.output)\n",
    "x = Dense(units=32,activation=\"relu\")(x)\n",
    "x = Dense(units=16,activation=\"relu\")(x)\n",
    "x = Dense(units=8,activation=\"relu\")(x)\n",
    "x = Dense(units=1, activation=\"sigmoid\")(x)\n",
    "\n",
    "mixed_model = Model([conc_mix.get_layer('input_base_input').output,conc_mix.get_layer('input_conc').output],x)\n",
    "\n",
    "mixed_model.summary()"
   ]
  },
  {
   "cell_type": "markdown",
   "metadata": {},
   "source": [
    "Training Model"
   ]
  },
  {
   "cell_type": "code",
   "execution_count": 33,
   "metadata": {},
   "outputs": [],
   "source": [
    "STEP_SIZE_TRAIN=len(X_train)//5\n",
    "STEP_SIZE_VALIDATION=len(X_val)//5"
   ]
  },
  {
   "cell_type": "code",
   "execution_count": 104,
   "metadata": {},
   "outputs": [
    {
     "name": "stdout",
     "output_type": "stream",
     "text": [
      "Epoch 1/1\n",
      "1067/1067 [==============================] - 44s 41ms/step - loss: 0.4413 - acc: 0.7807 - val_loss: 0.1895 - val_acc: 0.9383\n",
      "\n",
      "Epoch 00001: loss improved from inf to 0.44130, saving model to single_classifier_aug.h5\n",
      "\n",
      "Epoch 00001: val_loss improved from inf to 0.18949, saving model to single_loss_classifier_aug.h5\n"
     ]
    }
   ],
   "source": [
    "#Mixed loader\n",
    "train_loader = data_loader(X_train, y_train, batch_size = 5, size_aug = 5, data_augmentation=True)\n",
    "val_loader_mixed = data_loader_mixed(X_val, y_val, batch_size = 5)\n",
    "\n",
    "#Callbacks\n",
    "mc1 = ModelCheckpoint('single_classifier_aug.h5', monitor='loss', mode='min', verbose=1, save_best_only=True)\n",
    "mc2 = ModelCheckpoint('single_loss_classifier_aug.h5', monitor='val_loss', mode='min', verbose=1, save_best_only=True)\n",
    "reduce_lr = ReduceLROnPlateau(monitor='val_loss', factor=0.2, patience=5, min_lr=0.000001, verbose=1)\n",
    "callbacks=[mc1,mc2,reduce_lr]\n",
    "\n",
    "#Compile Model\n",
    "opt = Adam(lr=0.001)\n",
    "\n",
    "mixed_model.compile(optimizer=opt,\n",
    "              loss='binary_crossentropy',\n",
    "              metrics=['accuracy'])\n",
    "\n",
    "#Fit model\n",
    "STEP_SIZE_TRAIN=len(X_train)//5\n",
    "STEP_SIZE_VALIDATION=len(X_val)//5\n",
    "\n",
    "hist = mixed_model.fit_generator(\n",
    "   train_loader_mixed,\n",
    "   epochs=1,\n",
    "   steps_per_epoch=STEP_SIZE_TRAIN,\n",
    "   validation_data=val_loader_mixed,\n",
    "   validation_steps=STEP_SIZE_VALIDATION,\n",
    "   verbose=1,\n",
    "   callbacks=callbacks\n",
    ")"
   ]
  },
  {
   "cell_type": "code",
   "execution_count": 50,
   "metadata": {},
   "outputs": [],
   "source": [
    "mixed_model.load_weights('weights/mixed_model_loss_classifier.h5')\n",
    "mixed_model.save('best_model.h5')"
   ]
  },
  {
   "cell_type": "code",
   "execution_count": 38,
   "metadata": {},
   "outputs": [],
   "source": [
    "opt = Adam(lr=0.001)\n",
    "mixed_model.compile(optimizer=opt,\n",
    "              loss='binary_crossentropy',\n",
    "              metrics=['accuracy'])"
   ]
  },
  {
   "cell_type": "code",
   "execution_count": 39,
   "metadata": {},
   "outputs": [
    {
     "name": "stdout",
     "output_type": "stream",
     "text": [
      "133/133 [==============================] - 1s 7ms/step\n"
     ]
    },
    {
     "data": {
      "text/plain": [
       "[0.17811281751724017, 0.9368421090276617]"
      ]
     },
     "execution_count": 39,
     "metadata": {},
     "output_type": "execute_result"
    }
   ],
   "source": [
    "test_loader = data_loader_mixed(X_test, y_test, batch_size = 5)\n",
    "STEP_SIZE_TEST=len(X_test)//5\n",
    "mixed_model.evaluate_generator(test_loader,steps = STEP_SIZE_TEST,verbose=1)"
   ]
  },
  {
   "cell_type": "code",
   "execution_count": 40,
   "metadata": {},
   "outputs": [
    {
     "name": "stderr",
     "output_type": "stream",
     "text": [
      "/home/marrondantas/anaconda3/envs/kerasenv/lib/python3.6/site-packages/ipykernel_launcher.py:7: TqdmDeprecationWarning: This function will be removed in tqdm==5.0.0\n",
      "Please use `tqdm.notebook.tqdm` instead of `tqdm.tqdm_notebook`\n",
      "  import sys\n"
     ]
    },
    {
     "data": {
      "application/vnd.jupyter.widget-view+json": {
       "model_id": "2dc9608e64ee4902aba575af958a29ae",
       "version_major": 2,
       "version_minor": 0
      },
      "text/plain": [
       "HBox(children=(FloatProgress(value=0.0, max=133.0), HTML(value='')))"
      ]
     },
     "metadata": {},
     "output_type": "display_data"
    },
    {
     "name": "stdout",
     "output_type": "stream",
     "text": [
      "\n"
     ]
    }
   ],
   "source": [
    "pred = []\n",
    "ground = []\n",
    "\n",
    "STEP_SIZE_TEST=len(X_test)//5\n",
    "test_loader = data_loader_mixed(X_test, y_test, batch_size = 5)\n",
    "\n",
    "for i in tqdm(range(STEP_SIZE_TEST)):\n",
    "\n",
    "    x, y = next(test_loader)\n",
    "    \n",
    "    ground.extend(list(y))\n",
    "    \n",
    "    predictions = mixed_model.predict_on_batch(x)\n",
    "    \n",
    "    predictions[predictions>=0.5]=1\n",
    "    predictions[predictions<0.5]=0\n",
    "    \n",
    "    pred.extend(list(predictions.flatten()))"
   ]
  },
  {
   "cell_type": "code",
   "execution_count": 53,
   "metadata": {},
   "outputs": [
    {
     "data": {
      "text/plain": [
       "(5, 50, 50, 3)"
      ]
     },
     "execution_count": 53,
     "metadata": {},
     "output_type": "execute_result"
    }
   ],
   "source": [
    "x.shape"
   ]
  },
  {
   "cell_type": "code",
   "execution_count": 41,
   "metadata": {},
   "outputs": [],
   "source": [
    "pred = np.asarray(pred).astype(int)\n",
    "ground = np.asarray(ground).astype(int)"
   ]
  },
  {
   "cell_type": "code",
   "execution_count": 42,
   "metadata": {},
   "outputs": [
    {
     "name": "stdout",
     "output_type": "stream",
     "text": [
      "Predict   0         1         \n",
      "Actual\n",
      "0         423       21        \n",
      "\n",
      "1         21        200       \n",
      "\n",
      "\n",
      "\n",
      "\n",
      "\n",
      "Overall Statistics : \n",
      "\n",
      "95% CI                                                            (0.91835,0.95533)\n",
      "ACC Macro                                                         0.93684\n",
      "ARI                                                               0.76\n",
      "AUNP                                                              0.92884\n",
      "AUNU                                                              0.92884\n",
      "Bangdiwala B                                                      0.89004\n",
      "Bennett S                                                         0.87368\n",
      "CBA                                                               0.92884\n",
      "CSI                                                               0.85768\n",
      "Chi-Squared                                                       489.18405\n",
      "Chi-Squared DF                                                    1\n",
      "Conditional Entropy                                               0.33403\n",
      "Cramer V                                                          0.85768\n",
      "Cross Entropy                                                     0.91729\n",
      "F1 Macro                                                          0.92884\n",
      "F1 Micro                                                          0.93684\n",
      "FNR Macro                                                         0.07116\n",
      "FNR Micro                                                         0.06316\n",
      "FPR Macro                                                         0.07116\n",
      "FPR Micro                                                         0.06316\n",
      "Gwet AC1                                                          0.88645\n",
      "Hamming Loss                                                      0.06316\n",
      "Joint Entropy                                                     1.25132\n",
      "KL Divergence                                                     0.0\n",
      "Kappa                                                             0.85768\n",
      "Kappa 95% CI                                                      (0.81602,0.89934)\n",
      "Kappa No Prevalence                                               0.87368\n",
      "Kappa Standard Error                                              0.02126\n",
      "Kappa Unbiased                                                    0.85768\n",
      "Krippendorff Alpha                                                0.85779\n",
      "Lambda A                                                          0.80995\n",
      "Lambda B                                                          0.80995\n",
      "Mutual Information                                                0.58326\n",
      "NIR                                                               0.66767\n",
      "Overall ACC                                                       0.93684\n",
      "Overall CEN                                                       0.3094\n",
      "Overall J                                                         (1.73612,0.86806)\n",
      "Overall MCC                                                       0.85768\n",
      "Overall MCEN                                                      0.25248\n",
      "Overall RACC                                                      0.55623\n",
      "Overall RACCU                                                     0.55623\n",
      "P-Value                                                           0.0\n",
      "PPV Macro                                                         0.92884\n",
      "PPV Micro                                                         0.93684\n",
      "Pearson C                                                         0.65103\n",
      "Phi-Squared                                                       0.73562\n",
      "RCI                                                               0.63585\n",
      "RR                                                                332.5\n",
      "Reference Entropy                                                 0.91729\n",
      "Response Entropy                                                  0.91729\n",
      "SOA1(Landis & Koch)                                               Almost Perfect\n",
      "SOA2(Fleiss)                                                      Excellent\n",
      "SOA3(Altman)                                                      Very Good\n",
      "SOA4(Cicchetti)                                                   Excellent\n",
      "SOA5(Cramer)                                                      Very Strong\n",
      "SOA6(Matthews)                                                    Strong\n",
      "Scott PI                                                          0.85768\n",
      "Standard Error                                                    0.00943\n",
      "TNR Macro                                                         0.92884\n",
      "TNR Micro                                                         0.93684\n",
      "TPR Macro                                                         0.92884\n",
      "TPR Micro                                                         0.93684\n",
      "Zero-one Loss                                                     42\n",
      "\n",
      "Class Statistics :\n",
      "\n",
      "Classes                                                           0             1             \n",
      "ACC(Accuracy)                                                     0.93684       0.93684       \n",
      "AGF(Adjusted F-score)                                             0.92853       0.92853       \n",
      "AGM(Adjusted geometric mean)                                      0.92266       0.93821       \n",
      "AM(Difference between automatic and manual classification)        0             0             \n",
      "AUC(Area under the ROC curve)                                     0.92884       0.92884       \n",
      "AUCI(AUC value interpretation)                                    Excellent     Excellent     \n",
      "AUPR(Area under the PR curve)                                     0.9527        0.90498       \n",
      "BCD(Bray-Curtis dissimilarity)                                    0.0           0.0           \n",
      "BM(Informedness or bookmaker informedness)                        0.85768       0.85768       \n",
      "CEN(Confusion entropy)                                            0.2555        0.41768       \n",
      "DOR(Diagnostic odds ratio)                                        191.83673     191.83673     \n",
      "DP(Discriminant power)                                            1.25865       1.25865       \n",
      "DPI(Discriminant power interpretation)                            Limited       Limited       \n",
      "ERR(Error rate)                                                   0.06316       0.06316       \n",
      "F0.5(F0.5 score)                                                  0.9527        0.90498       \n",
      "F1(F1 score - harmonic mean of precision and sensitivity)         0.9527        0.90498       \n",
      "F2(F2 score)                                                      0.9527        0.90498       \n",
      "FDR(False discovery rate)                                         0.0473        0.09502       \n",
      "FN(False negative/miss/type 2 error)                              21            21            \n",
      "FNR(Miss rate or false negative rate)                             0.0473        0.09502       \n",
      "FOR(False omission rate)                                          0.09502       0.0473        \n",
      "FP(False positive/type 1 error/false alarm)                       21            21            \n",
      "FPR(Fall-out or false positive rate)                              0.09502       0.0473        \n",
      "G(G-measure geometric mean of precision and sensitivity)          0.9527        0.90498       \n",
      "GI(Gini index)                                                    0.85768       0.85768       \n",
      "GM(G-mean geometric mean of specificity and sensitivity)          0.92853       0.92853       \n",
      "IBA(Index of balanced accuracy)                                   0.90332       0.82103       \n",
      "ICSI(Individual classification success index)                     0.90541       0.80995       \n",
      "IS(Information score)                                             0.51289       1.44526       \n",
      "J(Jaccard index)                                                  0.90968       0.82645       \n",
      "LS(Lift score)                                                    1.42691       2.72312       \n",
      "MCC(Matthews correlation coefficient)                             0.85768       0.85768       \n",
      "MCCI(Matthews correlation coefficient interpretation)             Strong        Strong        \n",
      "MCEN(Modified confusion entropy)                                  0.40363       0.61205       \n",
      "MK(Markedness)                                                    0.85768       0.85768       \n",
      "N(Condition negative)                                             221           444           \n",
      "NLR(Negative likelihood ratio)                                    0.05226       0.09974       \n",
      "NLRI(Negative likelihood ratio interpretation)                    Good          Good          \n",
      "NPV(Negative predictive value)                                    0.90498       0.9527        \n",
      "OC(Overlap coefficient)                                           0.9527        0.90498       \n",
      "OOC(Otsuka-Ochiai coefficient)                                    0.9527        0.90498       \n",
      "OP(Optimized precision)                                           0.91115       0.91115       \n",
      "P(Condition positive or support)                                  444           221           \n",
      "PLR(Positive likelihood ratio)                                    10.02606      19.13381      \n",
      "PLRI(Positive likelihood ratio interpretation)                    Good          Good          \n",
      "POP(Population)                                                   665           665           \n",
      "PPV(Precision or positive predictive value)                       0.9527        0.90498       \n",
      "PRE(Prevalence)                                                   0.66767       0.33233       \n",
      "Q(Yule Q - coefficient of colligation)                            0.98963       0.98963       \n",
      "QI(Yule Q interpretation)                                         Strong        Strong        \n",
      "RACC(Random accuracy)                                             0.44578       0.11044       \n",
      "RACCU(Random accuracy unbiased)                                   0.44578       0.11044       \n",
      "TN(True negative/correct rejection)                               200           423           \n",
      "TNR(Specificity or true negative rate)                            0.90498       0.9527        \n",
      "TON(Test outcome negative)                                        221           444           \n",
      "TOP(Test outcome positive)                                        444           221           \n",
      "TP(True positive/hit)                                             423           200           \n",
      "TPR(Sensitivity, recall, hit rate, or true positive rate)         0.9527        0.90498       \n",
      "Y(Youden index)                                                   0.85768       0.85768       \n",
      "dInd(Distance index)                                              0.10614       0.10614       \n",
      "sInd(Similarity index)                                            0.92495       0.92495       \n",
      "\n"
     ]
    }
   ],
   "source": [
    "cm = ConfusionMatrix(actual_vector=ground, predict_vector=pred)\n",
    "print(cm)"
   ]
  },
  {
   "cell_type": "code",
   "execution_count": 44,
   "metadata": {},
   "outputs": [
    {
     "data": {
      "text/plain": [
       "<AxesSubplot:title={'center':'Confusion Matrix (Normalized)'}, xlabel='Predicted Classes', ylabel='Actual Classes'>"
      ]
     },
     "execution_count": 44,
     "metadata": {},
     "output_type": "execute_result"
    },
    {
     "data": {
      "image/png": "[encoded data removed]",
      "text/plain": [
       "<Figure size 432x288 with 2 Axes>"
      ]
     },
     "metadata": {
      "needs_background": "light"
     },
     "output_type": "display_data"
    }
   ],
   "source": [
    "cm.plot(cmap=plt.cm.Reds,normalized=True,number_label=True)"
   ]
  }
 ],
 "metadata": {
  "kernelspec": {
   "display_name": "Python 3",
   "language": "python",
   "name": "python3"
  },
  "language_info": {
   "codemirror_mode": {
    "name": "ipython",
    "version": 3
   },
   "file_extension": ".py",
   "mimetype": "text/x-python",
   "name": "python",
   "nbconvert_exporter": "python",
   "pygments_lexer": "ipython3",
   "version": "3.6.10"
  }
 },
 "nbformat": 4,
 "nbformat_minor": 5
}
